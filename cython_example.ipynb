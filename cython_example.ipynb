{
 "cells": [
  {
   "cell_type": "code",
   "execution_count": null,
   "metadata": {},
   "outputs": [],
   "source": [
    "import numpy as np"
   ]
  },
  {
   "cell_type": "code",
   "execution_count": null,
   "metadata": {},
   "outputs": [],
   "source": [
    "%load_ext cython"
   ]
  },
  {
   "cell_type": "code",
   "execution_count": null,
   "metadata": {},
   "outputs": [],
   "source": [
    "%%cython --compile-args=/openmp --link-args=/openmp --force\n",
    "cimport cython\n",
    "import numpy as np\n",
    "cimport numpy as np\n",
    "from cython.parallel import prange,  parallel\n",
    "@cython.boundscheck(False)\n",
    "@cython.wraparound(False)\n",
    "def check_bench(np.double_t[:] data):\n",
    "    cdef Py_ssize_t i\n",
    "    cdef int j = len(data)\n",
    "    cdef double k = 6\n",
    "    for i in prange(data.shape[0], nogil=True):\n",
    "        data[i] = data[i] * data[i]"
   ]
  },
  {
   "cell_type": "code",
   "execution_count": null,
   "metadata": {},
   "outputs": [],
   "source": [
    "def check_bench_2(data):\n",
    "    for i in range(len(data)):\n",
    "        data[i] = data[i] * 6"
   ]
  },
  {
   "cell_type": "code",
   "execution_count": null,
   "metadata": {},
   "outputs": [],
   "source": [
    "import timeit"
   ]
  },
  {
   "cell_type": "code",
   "execution_count": null,
   "metadata": {},
   "outputs": [],
   "source": [
    "tdata = np.array(range(300_000_000),dtype=np.double)"
   ]
  },
  {
   "cell_type": "code",
   "execution_count": null,
   "metadata": {},
   "outputs": [],
   "source": [
    "%timeit -r 20 -n 1 check_bench(tdata)"
   ]
  },
  {
   "cell_type": "code",
   "execution_count": null,
   "metadata": {},
   "outputs": [],
   "source": [
    "%timeit -r 1 -n 1 check_bench_2(tdata)"
   ]
  },
  {
   "cell_type": "code",
   "execution_count": null,
   "metadata": {},
   "outputs": [],
   "source": [
    "%%file test.c\n",
    "#include \"check.h\"\n",
    "int check_bench(double* data, int n)\n",
    "{\n",
    "    int i = 0;\n",
    "    #pragma omp parallel for \n",
    "    for (i = 0;i < n; i++)\n",
    "    {\n",
    "        data[i] = data[i] * data[i];\n",
    "    }\n",
    "    return 0;\n",
    "}"
   ]
  },
  {
   "cell_type": "code",
   "execution_count": null,
   "metadata": {},
   "outputs": [],
   "source": [
    "%%file check.h\n",
    "#include<stdio.h>\n",
    "int check_bench(double* , int n);"
   ]
  },
  {
   "cell_type": "code",
   "execution_count": null,
   "metadata": {
    "scrolled": true
   },
   "outputs": [],
   "source": [
    "%%file check.pyx \n",
    "cimport numpy as np\n",
    "cimport cython\n",
    "#cython: language_level=3\n",
    "# cython: language_level=3, boundscheck=False\n",
    "# cdefine the signature of our c function\n",
    "\n",
    "cdef extern from \"check.h\":\n",
    "    int  check_bench(double* a, int b)\n",
    "\n",
    "def check(np.ndarray[double, ndim=1, mode=\"c\"] a not None, int n):\n",
    "    return check_bench(<double*> np.PyArray_DATA(a), n)"
   ]
  },
  {
   "cell_type": "code",
   "execution_count": null,
   "metadata": {},
   "outputs": [],
   "source": [
    "%%file setup.py\n",
    "from setuptools import setup\n",
    "from distutils.core import Extension\n",
    "from Cython.Distutils import build_ext\n",
    "from Cython.Build import cythonize\n",
    "import numpy\n",
    "import cython\n",
    "\n",
    "extentions = [Extension(\"bex\",\n",
    "                           sources=[\"check.pyx\", \"test.c\"],\n",
    "                           language='c',\n",
    "                           include_dirs=[numpy.get_include()],\n",
    "                           extra_compile_args=[\"-Wall\",\"/openmp\"],\n",
    "                           extra_link_args=[\"/openmp\"],\n",
    "                          )]\n",
    " \n",
    "setup(\n",
    "    compiler=\"gcc\",\n",
    "    cmdclass={'build_ext': build_ext},\n",
    "    ext_modules=extentions\n",
    ")"
   ]
  },
  {
   "cell_type": "code",
   "execution_count": null,
   "metadata": {
    "scrolled": true
   },
   "outputs": [],
   "source": [
    " ! python setup.py build_ext --inplace --force "
   ]
  },
  {
   "cell_type": "code",
   "execution_count": null,
   "metadata": {},
   "outputs": [],
   "source": [
    "import bex as bx"
   ]
  },
  {
   "cell_type": "code",
   "execution_count": null,
   "metadata": {},
   "outputs": [],
   "source": [
    "%timeit -r 100 -n 1 bx.check(tdata, len(tdata))"
   ]
  },
  {
   "cell_type": "code",
   "execution_count": null,
   "metadata": {},
   "outputs": [],
   "source": []
  }
 ],
 "metadata": {
  "kernelspec": {
   "display_name": "Python 3",
   "language": "python",
   "name": "python3"
  },
  "language_info": {
   "codemirror_mode": {
    "name": "ipython",
    "version": 3
   },
   "file_extension": ".py",
   "mimetype": "text/x-python",
   "name": "python",
   "nbconvert_exporter": "python",
   "pygments_lexer": "ipython3",
   "version": "3.8.6"
  }
 },
 "nbformat": 4,
 "nbformat_minor": 4
}
